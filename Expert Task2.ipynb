{
 "cells": [
  {
   "cell_type": "code",
   "execution_count": 12,
   "id": "132912bb",
   "metadata": {},
   "outputs": [],
   "source": [
    "import pandas as pd\n",
    "from sklearn.datasets import load_iris\n",
    "from sklearn.model_selection import train_test_split, GridSearchCV\n",
    "from sklearn.preprocessing import StandardScaler\n",
    "from sklearn.linear_model import LogisticRegression\n",
    "from sklearn.ensemble import RandomForestClassifier\n",
    "from sklearn.svm import SVC\n",
    "from sklearn.metrics import accuracy_score"
   ]
  },
  {
   "cell_type": "code",
   "execution_count": 3,
   "id": "d92db3e2",
   "metadata": {},
   "outputs": [],
   "source": [
    "df=load_iris()\n",
    "X = pd.DataFrame(df.data, columns=df.feature_names)\n",
    "y = pd.Series(df.target, name='target')"
   ]
  },
  {
   "cell_type": "code",
   "execution_count": 4,
   "id": "cc2f024b",
   "metadata": {},
   "outputs": [],
   "source": [
    "X_train, X_test, y_train, y_test = train_test_split(X, y, test_size=0.2, random_state=42)"
   ]
  },
  {
   "cell_type": "code",
   "execution_count": null,
   "id": "da0bc393",
   "metadata": {},
   "outputs": [],
   "source": [
    "# scaler = StandardScaler()\n",
    "# X_train = scaler.fit_transform(X_train)\n",
    "# X_test = scaler.transform(X_test)"
   ]
  },
  {
   "cell_type": "code",
   "execution_count": 13,
   "id": "b419f4c5",
   "metadata": {},
   "outputs": [],
   "source": [
    "model_params = {\n",
    "    'svm': {\n",
    "        'model': SVC(probability=True),\n",
    "        'params': {\n",
    "            'model__C': [1, 10, 100],\n",
    "            'model__kernel': ['rbf', 'linear']\n",
    "        }\n",
    "    },\n",
    "    'random_forest': {\n",
    "        'model': RandomForestClassifier(),\n",
    "        'params': {\n",
    "            'model__n_estimators': [5, 10, 50]\n",
    "        }\n",
    "    },\n",
    "    'logistic_regression': {\n",
    "        'model': LogisticRegression(max_iter=200),\n",
    "        'params': {\n",
    "            'model__C': [1, 5, 10]\n",
    "        }\n",
    "    }\n",
    "}"
   ]
  },
  {
   "cell_type": "code",
   "execution_count": 14,
   "id": "a33fb713",
   "metadata": {},
   "outputs": [],
   "source": [
    "# Store results\n",
    "results = []"
   ]
  },
  {
   "cell_type": "code",
   "execution_count": 15,
   "id": "18f8b7e8",
   "metadata": {},
   "outputs": [],
   "source": [
    "from sklearn.pipeline import Pipeline\n",
    "for model_name, mp in model_params.items():\n",
    "    pipe = Pipeline([\n",
    "        ('scaler', StandardScaler()),\n",
    "        ('model', mp['model'])\n",
    "    ])\n",
    "    \n",
    "    clf = GridSearchCV(pipe, mp['params'], cv=5, return_train_score=False)\n",
    "    clf.fit(X_train, y_train)\n",
    "    \n",
    "    results.append({\n",
    "        'model': model_name,\n",
    "        'best_params': clf.best_params_,\n",
    "        'cv_score': clf.best_score_,\n",
    "        'test_score': accuracy_score(y_test, clf.predict(X_test))\n",
    "    })"
   ]
  },
  {
   "cell_type": "code",
   "execution_count": 16,
   "id": "ddc308aa",
   "metadata": {},
   "outputs": [
    {
     "name": "stdout",
     "output_type": "stream",
     "text": [
      "\n",
      "Model: svm\n",
      "Best Params: {'model__C': 1, 'model__kernel': 'rbf'}\n",
      "CV Accuracy: 0.9583\n",
      "Test Accuracy: 1.0000\n",
      "\n",
      "Model: random_forest\n",
      "Best Params: {'model__n_estimators': 5}\n",
      "CV Accuracy: 0.9667\n",
      "Test Accuracy: 1.0000\n",
      "\n",
      "Model: logistic_regression\n",
      "Best Params: {'model__C': 1}\n",
      "CV Accuracy: 0.9583\n",
      "Test Accuracy: 1.0000\n"
     ]
    }
   ],
   "source": [
    "for res in results:\n",
    "    print(f\"\\nModel: {res['model']}\")\n",
    "    print(\"Best Params:\", res['best_params'])\n",
    "    print(f\"CV Accuracy: {res['cv_score']:.4f}\")\n",
    "    print(f\"Test Accuracy: {res['test_score']:.4f}\")"
   ]
  },
  {
   "cell_type": "code",
   "execution_count": null,
   "id": "33f9474b",
   "metadata": {},
   "outputs": [],
   "source": []
  }
 ],
 "metadata": {
  "kernelspec": {
   "display_name": "Python 3",
   "language": "python",
   "name": "python3"
  },
  "language_info": {
   "codemirror_mode": {
    "name": "ipython",
    "version": 3
   },
   "file_extension": ".py",
   "mimetype": "text/x-python",
   "name": "python",
   "nbconvert_exporter": "python",
   "pygments_lexer": "ipython3",
   "version": "3.11.0"
  }
 },
 "nbformat": 4,
 "nbformat_minor": 5
}
